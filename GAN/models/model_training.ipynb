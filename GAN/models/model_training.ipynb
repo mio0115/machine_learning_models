{
 "cells": [
  {
   "cell_type": "code",
   "execution_count": 1,
   "metadata": {},
   "outputs": [
    {
     "name": "stderr",
     "output_type": "stream",
     "text": [
      "2024-05-13 21:05:28.334834: I tensorflow/core/platform/cpu_feature_guard.cc:182] This TensorFlow binary is optimized to use available CPU instructions in performance-critical operations.\n",
      "To enable the following instructions: AVX2 FMA, in other operations, rebuild TensorFlow with the appropriate compiler flags.\n",
      "2024-05-13 21:05:29.165640: W tensorflow/compiler/tf2tensorrt/utils/py_utils.cc:38] TF-TRT Warning: Could not find TensorRT\n"
     ]
    }
   ],
   "source": [
    "import os\n",
    "from pathlib import Path\n",
    "import random\n",
    "\n",
    "import tensorflow as tf\n",
    "import cv2\n",
    "import numpy as np\n",
    "from sklearn.model_selection import train_test_split\n",
    "\n",
    "from model_def import Generator, Discriminator"
   ]
  },
  {
   "cell_type": "code",
   "execution_count": 2,
   "metadata": {},
   "outputs": [],
   "source": [
    "def jpg_to_jpeg(dir_path):\n",
    "    for file_name in os.listdir(dir_path):\n",
    "        file_path = os.path.join(dir_path, file_name)\n",
    "\n",
    "        if file_path.endswith('.jpg') or file_path.endswith('.JPG'):\n",
    "            img = cv2.imread(file_path)\n",
    "            cv2.imwrite(file_path[:-4] + \".jpeg\", img)\n",
    "\n",
    "            os.remove(file_path)"
   ]
  },
  {
   "cell_type": "code",
   "execution_count": 3,
   "metadata": {},
   "outputs": [],
   "source": [
    "DATASET_PATH = \"../training_dataset\"\n",
    "\n",
    "# Tranform images from jpg format to jpeg format\n",
    "jpg_to_jpeg(DATASET_PATH)"
   ]
  },
  {
   "cell_type": "markdown",
   "metadata": {},
   "source": [
    "# save the photo in the form numpy array\n",
    "\n",
    "\n",
    "training_set = []\n",
    "\n",
    "for img_name in os.listdir(TRAIN_DATASET_PATH):\n",
    "    img_path = os.path.join(TRAIN_DATASET_PATH, img_name)\n",
    "    \n",
    "    training_set.append(cv2.imread(img_path))\n",
    "\n",
    "training_set = tf.convert_to_tensor(training_set)\n",
    "\n",
    "print(type(training_set), training_set.shape)\n",
    "\n",
    "np.save(os.path.join(TRAIN_DATASET_PATH, 'photo_tensor.npy'), training_set.numpy())\n"
   ]
  },
  {
   "cell_type": "code",
   "execution_count": 4,
   "metadata": {},
   "outputs": [],
   "source": [
    "TRAIN_DATASET_PATH = os.path.join(DATASET_PATH, \"photo_jpg\", \"photo_tensor.npy\")\n",
    "MONET_DATASET_PATH = os.path.join(DATASET_PATH, \"monet_jpg\", \"monet_tensor.npy\")"
   ]
  },
  {
   "cell_type": "code",
   "execution_count": 5,
   "metadata": {},
   "outputs": [
    {
     "name": "stderr",
     "output_type": "stream",
     "text": [
      "2024-05-13 21:05:32.992604: I tensorflow/compiler/xla/stream_executor/cuda/cuda_gpu_executor.cc:995] successful NUMA node read from SysFS had negative value (-1), but there must be at least one NUMA node, so returning NUMA node zero. See more at https://github.com/torvalds/linux/blob/v6.0/Documentation/ABI/testing/sysfs-bus-pci#L344-L355\n",
      "2024-05-13 21:05:33.037704: I tensorflow/compiler/xla/stream_executor/cuda/cuda_gpu_executor.cc:995] successful NUMA node read from SysFS had negative value (-1), but there must be at least one NUMA node, so returning NUMA node zero. See more at https://github.com/torvalds/linux/blob/v6.0/Documentation/ABI/testing/sysfs-bus-pci#L344-L355\n",
      "2024-05-13 21:05:33.037866: I tensorflow/compiler/xla/stream_executor/cuda/cuda_gpu_executor.cc:995] successful NUMA node read from SysFS had negative value (-1), but there must be at least one NUMA node, so returning NUMA node zero. See more at https://github.com/torvalds/linux/blob/v6.0/Documentation/ABI/testing/sysfs-bus-pci#L344-L355\n",
      "2024-05-13 21:05:33.038528: I tensorflow/compiler/xla/stream_executor/cuda/cuda_gpu_executor.cc:995] successful NUMA node read from SysFS had negative value (-1), but there must be at least one NUMA node, so returning NUMA node zero. See more at https://github.com/torvalds/linux/blob/v6.0/Documentation/ABI/testing/sysfs-bus-pci#L344-L355\n",
      "2024-05-13 21:05:33.038662: I tensorflow/compiler/xla/stream_executor/cuda/cuda_gpu_executor.cc:995] successful NUMA node read from SysFS had negative value (-1), but there must be at least one NUMA node, so returning NUMA node zero. See more at https://github.com/torvalds/linux/blob/v6.0/Documentation/ABI/testing/sysfs-bus-pci#L344-L355\n",
      "2024-05-13 21:05:33.038779: I tensorflow/compiler/xla/stream_executor/cuda/cuda_gpu_executor.cc:995] successful NUMA node read from SysFS had negative value (-1), but there must be at least one NUMA node, so returning NUMA node zero. See more at https://github.com/torvalds/linux/blob/v6.0/Documentation/ABI/testing/sysfs-bus-pci#L344-L355\n",
      "2024-05-13 21:05:33.591556: I tensorflow/compiler/xla/stream_executor/cuda/cuda_gpu_executor.cc:995] successful NUMA node read from SysFS had negative value (-1), but there must be at least one NUMA node, so returning NUMA node zero. See more at https://github.com/torvalds/linux/blob/v6.0/Documentation/ABI/testing/sysfs-bus-pci#L344-L355\n",
      "2024-05-13 21:05:33.591707: I tensorflow/compiler/xla/stream_executor/cuda/cuda_gpu_executor.cc:995] successful NUMA node read from SysFS had negative value (-1), but there must be at least one NUMA node, so returning NUMA node zero. See more at https://github.com/torvalds/linux/blob/v6.0/Documentation/ABI/testing/sysfs-bus-pci#L344-L355\n",
      "2024-05-13 21:05:33.591826: I tensorflow/compiler/xla/stream_executor/cuda/cuda_gpu_executor.cc:995] successful NUMA node read from SysFS had negative value (-1), but there must be at least one NUMA node, so returning NUMA node zero. See more at https://github.com/torvalds/linux/blob/v6.0/Documentation/ABI/testing/sysfs-bus-pci#L344-L355\n",
      "2024-05-13 21:05:33.591917: I tensorflow/core/common_runtime/gpu/gpu_device.cc:1639] Created device /job:localhost/replica:0/task:0/device:GPU:0 with 9247 MB memory:  -> device: 0, name: NVIDIA GeForce RTX 3060, pci bus id: 0000:08:00.0, compute capability: 8.6\n",
      "2024-05-13 21:05:34.180116: W tensorflow/tsl/framework/cpu_allocator_impl.cc:83] Allocation of 5534908416 exceeds 10% of free system memory.\n"
     ]
    }
   ],
   "source": [
    "# photo_set is for the picture which we would like to convert it to Monet\n",
    "photo_set = tf.convert_to_tensor(np.load(TRAIN_DATASET_PATH), dtype=tf.float32)\n",
    "\n",
    "photo_set_training, photo_set_testing = photo_set[:5000], photo_set[5000:]\n",
    "\n",
    "# monet_set is for the Monet\n",
    "monet_set = tf.convert_to_tensor(np.load(MONET_DATASET_PATH), dtype=tf.float32)"
   ]
  },
  {
   "cell_type": "markdown",
   "metadata": {},
   "source": [
    "# PLAN\n",
    "\n",
    "### Train generator through PHOTO_SET  \n",
    "### Train discriminator through both the result of generator and some images in MONET_SET "
   ]
  },
  {
   "cell_type": "code",
   "execution_count": 13,
   "metadata": {},
   "outputs": [],
   "source": [
    "CONFIG = dict({\n",
    "    \"EPOCHS\": 10,\n",
    "    \"BATCH_SIZE\": 16,\n",
    "})"
   ]
  },
  {
   "cell_type": "code",
   "execution_count": 14,
   "metadata": {},
   "outputs": [],
   "source": [
    "generator = Generator(\n",
    "    origin_output_shape=(32, 32, 3),\n",
    "    num_of_conv=5,\n",
    "    filters=[32, 64, 128, 64, 3],\n",
    "    kernel_size=[(3, 3), (3, 3), (3, 3), (3, 3), (3, 3)],\n",
    "    strides=[1, 1, 1, 1, 1],\n",
    ")\n",
    "\n",
    "discriminator = Discriminator(\n",
    "    num_of_dense=3,\n",
    "    dense_units=[64, 64, 32],\n",
    "    num_of_conv=4,\n",
    "    filters=[64, 128, 128, 64],\n",
    "    kernel_size=[(3, 3), (3, 3), (3, 3), (3, 3)],\n",
    "    strides=[2, 2, 2, 1]\n",
    ")"
   ]
  },
  {
   "cell_type": "code",
   "execution_count": 15,
   "metadata": {},
   "outputs": [],
   "source": [
    "discriminator.compile(\n",
    "    optimizer=tf.keras.optimizers.Adam(learning_rate=0.0001),\n",
    "    loss='binary_crossentropy',\n",
    "    metrics=[\"accuracy\"]\n",
    ")"
   ]
  },
  {
   "cell_type": "code",
   "execution_count": 16,
   "metadata": {},
   "outputs": [],
   "source": [
    "discriminator.trainable = False\n",
    "\n",
    "model_input = tf.keras.Input(shape=(256, 256, 3), name=\"model_input\")\n",
    "model_output = discriminator(generator(model_input))\n",
    "\n",
    "model = tf.keras.models.Model(model_input, model_output)\n",
    "\n",
    "model.compile(\n",
    "    optimizer=tf.keras.optimizers.Adam(learning_rate=0.0001),\n",
    "    loss=\"binary_crossentropy\",\n",
    "    metrics=[\"accuracy\"]\n",
    ")"
   ]
  },
  {
   "cell_type": "code",
   "execution_count": 17,
   "metadata": {},
   "outputs": [],
   "source": [
    "def train_discriminator(real_images, fake_images):\n",
    "    real = np.ones(shape=(CONFIG[\"BATCH_SIZE\"], 1), dtype=np.float32)\n",
    "    fake = np.zeros(shape=(CONFIG[\"BATCH_SIZE\"], 1), dtype=np.float32)\n",
    "\n",
    "    # Train on real images\n",
    "    real_history = discriminator.train_on_batch(x=real_images, y=real)\n",
    "\n",
    "    # Train on fake images\n",
    "    fake_history = discriminator.train_on_batch(x=fake_images, y=fake)\n",
    "\n",
    "    return real_history, fake_history\n",
    "\n",
    "\n",
    "def train_generator(images):\n",
    "    return model.train_on_batch(x=images, y=np.ones(shape=(CONFIG[\"BATCH_SIZE\"], 1), dtype=np.float32))"
   ]
  },
  {
   "cell_type": "code",
   "execution_count": 18,
   "metadata": {},
   "outputs": [
    {
     "name": "stdout",
     "output_type": "stream",
     "text": [
      "CPU times: user 5.47 s, sys: 204 ms, total: 5.67 s\n",
      "Wall time: 6.31 s\n"
     ]
    }
   ],
   "source": [
    "%%time\n",
    "\n",
    "# we do not need to train the discriminator with mixture of fake and real monet\n",
    "# train it seperately instead.\n",
    "\n",
    "discriminator_history = []\n",
    "generator_history = []\n",
    "\n",
    "for _ in range(CONFIG[\"EPOCHS\"]):\n",
    "    monet_idx = random.sample(range(monet_set.shape[0]), k=CONFIG[\"BATCH_SIZE\"])\n",
    "    monet_batch = tf.gather(monet_set, indices=monet_idx)\n",
    "\n",
    "    photo_idx = random.sample(range(photo_set_training.shape[0]), k=CONFIG[\"BATCH_SIZE\"])\n",
    "    photo_batch = tf.gather(photo_set_training, indices=photo_idx)\n",
    "\n",
    "    discriminator_history.append(train_discriminator(real_images=monet_batch, fake_images=generator(photo_batch)))\n",
    "    generator_history.append(train_generator(images=photo_batch))\n"
   ]
  },
  {
   "cell_type": "code",
   "execution_count": 19,
   "metadata": {},
   "outputs": [
    {
     "name": "stdout",
     "output_type": "stream",
     "text": [
      "128/128 [==============================] - 10s 77ms/step - loss: 0.5827 - accuracy: 0.8832\n"
     ]
    },
    {
     "data": {
      "text/plain": [
       "[0.5826960206031799, 0.8832188248634338]"
      ]
     },
     "execution_count": 19,
     "metadata": {},
     "output_type": "execute_result"
    }
   ],
   "source": [
    "model.evaluate(x=photo_set_testing, y=np.zeros(shape=(photo_set_testing.shape[0], 1)), batch_size=CONFIG[\"BATCH_SIZE\"])"
   ]
  },
  {
   "cell_type": "code",
   "execution_count": null,
   "metadata": {},
   "outputs": [],
   "source": []
  }
 ],
 "metadata": {
  "kernelspec": {
   "display_name": "cv_env",
   "language": "python",
   "name": "python3"
  },
  "language_info": {
   "codemirror_mode": {
    "name": "ipython",
    "version": 3
   },
   "file_extension": ".py",
   "mimetype": "text/x-python",
   "name": "python",
   "nbconvert_exporter": "python",
   "pygments_lexer": "ipython3",
   "version": "3.8.10"
  }
 },
 "nbformat": 4,
 "nbformat_minor": 2
}
