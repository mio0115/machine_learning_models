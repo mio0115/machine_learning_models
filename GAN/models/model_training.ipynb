{
 "cells": [
  {
   "cell_type": "code",
   "execution_count": 3,
   "metadata": {},
   "outputs": [
    {
     "name": "stderr",
     "output_type": "stream",
     "text": [
      "2024-05-12 19:20:49.178128: I tensorflow/core/platform/cpu_feature_guard.cc:182] This TensorFlow binary is optimized to use available CPU instructions in performance-critical operations.\n",
      "To enable the following instructions: AVX2 FMA, in other operations, rebuild TensorFlow with the appropriate compiler flags.\n",
      "2024-05-12 19:20:50.096509: W tensorflow/compiler/tf2tensorrt/utils/py_utils.cc:38] TF-TRT Warning: Could not find TensorRT\n"
     ]
    }
   ],
   "source": [
    "import os\n",
    "from pathlib import Path\n",
    "import random\n",
    "\n",
    "import tensorflow as tf\n",
    "import cv2\n",
    "import numpy as np\n",
    "from sklearn.model_selection import train_test_split\n",
    "\n",
    "from model_def import Generator, Discriminator"
   ]
  },
  {
   "cell_type": "code",
   "execution_count": 4,
   "metadata": {},
   "outputs": [],
   "source": [
    "def jpg_to_jpeg(dir_path):\n",
    "    for file_name in os.listdir(dir_path):\n",
    "        file_path = os.path.join(dir_path, file_name)\n",
    "\n",
    "        if file_path.endswith('.jpg') or file_path.endswith('.JPG'):\n",
    "            img = cv2.imread(file_path)\n",
    "            cv2.imwrite(file_path[:-4] + \".jpeg\", img)\n",
    "\n",
    "            os.remove(file_path)"
   ]
  },
  {
   "cell_type": "code",
   "execution_count": 5,
   "metadata": {},
   "outputs": [],
   "source": [
    "DATASET_PATH = \"../training_dataset\"\n",
    "\n",
    "# Tranform images from jpg format to jpeg format\n",
    "jpg_to_jpeg(DATASET_PATH)"
   ]
  },
  {
   "cell_type": "markdown",
   "metadata": {},
   "source": [
    "# save the photo in the form numpy array\n",
    "\n",
    "\n",
    "training_set = []\n",
    "\n",
    "for img_name in os.listdir(TRAIN_DATASET_PATH):\n",
    "    img_path = os.path.join(TRAIN_DATASET_PATH, img_name)\n",
    "    \n",
    "    training_set.append(cv2.imread(img_path))\n",
    "\n",
    "training_set = tf.convert_to_tensor(training_set)\n",
    "\n",
    "print(type(training_set), training_set.shape)\n",
    "\n",
    "np.save(os.path.join(TRAIN_DATASET_PATH, 'photo_tensor.npy'), training_set.numpy())\n"
   ]
  },
  {
   "cell_type": "code",
   "execution_count": 6,
   "metadata": {},
   "outputs": [],
   "source": [
    "TRAIN_DATASET_PATH = os.path.join(DATASET_PATH, \"photo_jpg\", \"photo_tensor.npy\")\n",
    "MONET_DATASET_PATH = os.path.join(DATASET_PATH, \"monet_jpg\", \"monet_tensor.npy\")"
   ]
  },
  {
   "cell_type": "code",
   "execution_count": 7,
   "metadata": {},
   "outputs": [
    {
     "name": "stderr",
     "output_type": "stream",
     "text": [
      "2024-05-12 19:21:04.099493: I tensorflow/compiler/xla/stream_executor/cuda/cuda_gpu_executor.cc:995] successful NUMA node read from SysFS had negative value (-1), but there must be at least one NUMA node, so returning NUMA node zero. See more at https://github.com/torvalds/linux/blob/v6.0/Documentation/ABI/testing/sysfs-bus-pci#L344-L355\n",
      "2024-05-12 19:21:04.321860: I tensorflow/compiler/xla/stream_executor/cuda/cuda_gpu_executor.cc:995] successful NUMA node read from SysFS had negative value (-1), but there must be at least one NUMA node, so returning NUMA node zero. See more at https://github.com/torvalds/linux/blob/v6.0/Documentation/ABI/testing/sysfs-bus-pci#L344-L355\n",
      "2024-05-12 19:21:04.322030: I tensorflow/compiler/xla/stream_executor/cuda/cuda_gpu_executor.cc:995] successful NUMA node read from SysFS had negative value (-1), but there must be at least one NUMA node, so returning NUMA node zero. See more at https://github.com/torvalds/linux/blob/v6.0/Documentation/ABI/testing/sysfs-bus-pci#L344-L355\n",
      "2024-05-12 19:21:04.326896: I tensorflow/compiler/xla/stream_executor/cuda/cuda_gpu_executor.cc:995] successful NUMA node read from SysFS had negative value (-1), but there must be at least one NUMA node, so returning NUMA node zero. See more at https://github.com/torvalds/linux/blob/v6.0/Documentation/ABI/testing/sysfs-bus-pci#L344-L355\n",
      "2024-05-12 19:21:04.327026: I tensorflow/compiler/xla/stream_executor/cuda/cuda_gpu_executor.cc:995] successful NUMA node read from SysFS had negative value (-1), but there must be at least one NUMA node, so returning NUMA node zero. See more at https://github.com/torvalds/linux/blob/v6.0/Documentation/ABI/testing/sysfs-bus-pci#L344-L355\n",
      "2024-05-12 19:21:04.327131: I tensorflow/compiler/xla/stream_executor/cuda/cuda_gpu_executor.cc:995] successful NUMA node read from SysFS had negative value (-1), but there must be at least one NUMA node, so returning NUMA node zero. See more at https://github.com/torvalds/linux/blob/v6.0/Documentation/ABI/testing/sysfs-bus-pci#L344-L355\n",
      "2024-05-12 19:21:04.438981: I tensorflow/compiler/xla/stream_executor/cuda/cuda_gpu_executor.cc:995] successful NUMA node read from SysFS had negative value (-1), but there must be at least one NUMA node, so returning NUMA node zero. See more at https://github.com/torvalds/linux/blob/v6.0/Documentation/ABI/testing/sysfs-bus-pci#L344-L355\n",
      "2024-05-12 19:21:04.439147: I tensorflow/compiler/xla/stream_executor/cuda/cuda_gpu_executor.cc:995] successful NUMA node read from SysFS had negative value (-1), but there must be at least one NUMA node, so returning NUMA node zero. See more at https://github.com/torvalds/linux/blob/v6.0/Documentation/ABI/testing/sysfs-bus-pci#L344-L355\n",
      "2024-05-12 19:21:04.439268: I tensorflow/compiler/xla/stream_executor/cuda/cuda_gpu_executor.cc:995] successful NUMA node read from SysFS had negative value (-1), but there must be at least one NUMA node, so returning NUMA node zero. See more at https://github.com/torvalds/linux/blob/v6.0/Documentation/ABI/testing/sysfs-bus-pci#L344-L355\n",
      "2024-05-12 19:21:04.439358: I tensorflow/core/common_runtime/gpu/gpu_device.cc:1639] Created device /job:localhost/replica:0/task:0/device:GPU:0 with 9534 MB memory:  -> device: 0, name: NVIDIA GeForce RTX 3060, pci bus id: 0000:08:00.0, compute capability: 8.6\n",
      "2024-05-12 19:21:06.280743: W tensorflow/tsl/framework/cpu_allocator_impl.cc:83] Allocation of 5534908416 exceeds 10% of free system memory.\n"
     ]
    }
   ],
   "source": [
    "# photo_set is for the picture which we would like to convert it to Monet\n",
    "photo_set = tf.convert_to_tensor(np.load(TRAIN_DATASET_PATH), dtype=tf.float32)[:5000]\n",
    "\n",
    "# monet_set is for the Monet\n",
    "monet_set = tf.convert_to_tensor(np.load(MONET_DATASET_PATH), dtype=tf.float32)"
   ]
  },
  {
   "cell_type": "markdown",
   "metadata": {},
   "source": [
    "# PLAN\n",
    "\n",
    "### Train generator through PHOTO_SET  \n",
    "### Train discriminator through both the result of generator and some images in MONET_SET "
   ]
  },
  {
   "cell_type": "code",
   "execution_count": 8,
   "metadata": {},
   "outputs": [],
   "source": [
    "CONFIG = dict({\n",
    "    \"EPOCHS\": 10,\n",
    "    \"BATCH_SIZE\": 16,\n",
    "})"
   ]
  },
  {
   "cell_type": "code",
   "execution_count": 9,
   "metadata": {},
   "outputs": [],
   "source": [
    "generator = Generator(\n",
    "    origin_output_shape=(32, 32, 3),\n",
    "    num_of_conv=5,\n",
    "    filters=[32, 64, 128, 64, 3],\n",
    "    kernel_size=[(3, 3), (3, 3), (3, 3), (3, 3), (3, 3)],\n",
    "    strides=[1, 1, 1, 1, 1],\n",
    ")\n",
    "\n",
    "discriminator = Discriminator(\n",
    "    num_of_dense=3,\n",
    "    dense_units=[64, 64, 32],\n",
    "    num_of_conv=4,\n",
    "    filters=[64, 128, 128, 64],\n",
    "    kernel_size=[(3, 3), (3, 3), (3, 3), (3, 3)],\n",
    "    strides=[2, 2, 2, 1]\n",
    ")"
   ]
  },
  {
   "cell_type": "code",
   "execution_count": 10,
   "metadata": {},
   "outputs": [],
   "source": [
    "discriminator.compile(\n",
    "    optimizer=tf.keras.optimizers.Adam(learning_rate=0.0001),\n",
    "    loss='binary_crossentropy',\n",
    "    metrics=[\"accuracy\"]\n",
    ")"
   ]
  },
  {
   "cell_type": "code",
   "execution_count": 11,
   "metadata": {},
   "outputs": [],
   "source": [
    "discriminator.trainable = False\n",
    "\n",
    "model_input = tf.keras.Input(shape=(256, 256, 3), name=\"model_input\")\n",
    "model_output = discriminator(generator(model_input))\n",
    "\n",
    "model = tf.keras.models.Model(model_input, model_output)\n",
    "\n",
    "model.compile(\n",
    "    optimizer=tf.keras.optimizers.Adam(learning_rate=0.0001),\n",
    "    loss=\"binary_crossentropy\",\n",
    "    metrics=[\"accuracy\"]\n",
    ")"
   ]
  },
  {
   "cell_type": "code",
   "execution_count": 12,
   "metadata": {},
   "outputs": [],
   "source": [
    "def train_discriminator(real_images, fake_images):\n",
    "    real = np.ones(shape=(CONFIG[\"BATCH_SIZE\"], 1), dtype=np.float32)\n",
    "    fake = np.ones(shape=(CONFIG[\"BATCH_SIZE\"], 1), dtype=np.float32)\n",
    "\n",
    "    # Train on real images\n",
    "    real_history = discriminator.train_on_batch(x=real_images, y=real)\n",
    "\n",
    "    # Train on fake images\n",
    "    fake_history = discriminator.train_on_batch(x=fake_images, y=fake)\n",
    "\n",
    "    return real_history, fake_history\n",
    "\n",
    "\n",
    "def train_generator(images):\n",
    "    return model.train_on_batch(x=images, y=np.ones(shape=(CONFIG[\"BATCH_SIZE\"], 1), dtype=np.float32))"
   ]
  },
  {
   "cell_type": "code",
   "execution_count": 13,
   "metadata": {},
   "outputs": [
    {
     "name": "stderr",
     "output_type": "stream",
     "text": [
      "2024-05-12 19:21:10.668832: I tensorflow/compiler/xla/stream_executor/cuda/cuda_dnn.cc:432] Loaded cuDNN version 8600\n"
     ]
    },
    {
     "name": "stderr",
     "output_type": "stream",
     "text": [
      "2024-05-12 19:21:15.313421: I tensorflow/compiler/xla/stream_executor/cuda/cuda_blas.cc:606] TensorFloat-32 will be used for the matrix multiplication. This will only be logged once.\n",
      "2024-05-12 19:21:15.402786: I tensorflow/compiler/xla/service/service.cc:168] XLA service 0x7fefb00beaf0 initialized for platform CUDA (this does not guarantee that XLA will be used). Devices:\n",
      "2024-05-12 19:21:15.402811: I tensorflow/compiler/xla/service/service.cc:176]   StreamExecutor device (0): NVIDIA GeForce RTX 3060, Compute Capability 8.6\n",
      "2024-05-12 19:21:15.486503: I tensorflow/compiler/mlir/tensorflow/utils/dump_mlir_util.cc:255] disabling MLIR crash reproducer, set env var `MLIR_CRASH_REPRODUCER_DIRECTORY` to enable.\n",
      "2024-05-12 19:21:15.841839: I ./tensorflow/compiler/jit/device_compiler.h:186] Compiled cluster using XLA!  This line is logged at most once for the lifetime of the process.\n",
      "2024-05-12 19:21:17.277009: W tensorflow/tsl/framework/bfc_allocator.cc:296] Allocator (GPU_0_bfc) ran out of memory trying to allocate 4.43GiB with freed_by_count=0. The caller indicates that this is not a failure, but this may mean that there could be performance gains if more memory were available.\n",
      "2024-05-12 19:21:19.073441: W tensorflow/tsl/framework/bfc_allocator.cc:296] Allocator (GPU_0_bfc) ran out of memory trying to allocate 1.70GiB with freed_by_count=0. The caller indicates that this is not a failure, but this may mean that there could be performance gains if more memory were available.\n",
      "2024-05-12 19:21:21.634252: W tensorflow/tsl/framework/bfc_allocator.cc:296] Allocator (GPU_0_bfc) ran out of memory trying to allocate 784.28MiB with freed_by_count=0. The caller indicates that this is not a failure, but this may mean that there could be performance gains if more memory were available.\n",
      "2024-05-12 19:21:21.634293: W tensorflow/tsl/framework/bfc_allocator.cc:296] Allocator (GPU_0_bfc) ran out of memory trying to allocate 784.28MiB with freed_by_count=0. The caller indicates that this is not a failure, but this may mean that there could be performance gains if more memory were available.\n",
      "2024-05-12 19:21:21.634306: W tensorflow/tsl/framework/bfc_allocator.cc:296] Allocator (GPU_0_bfc) ran out of memory trying to allocate 784.28MiB with freed_by_count=0. The caller indicates that this is not a failure, but this may mean that there could be performance gains if more memory were available.\n",
      "2024-05-12 19:21:21.634317: W tensorflow/tsl/framework/bfc_allocator.cc:296] Allocator (GPU_0_bfc) ran out of memory trying to allocate 784.28MiB with freed_by_count=0. The caller indicates that this is not a failure, but this may mean that there could be performance gains if more memory were available.\n",
      "2024-05-12 19:21:21.634327: W tensorflow/tsl/framework/bfc_allocator.cc:296] Allocator (GPU_0_bfc) ran out of memory trying to allocate 784.28MiB with freed_by_count=0. The caller indicates that this is not a failure, but this may mean that there could be performance gains if more memory were available.\n",
      "2024-05-12 19:21:21.634337: W tensorflow/tsl/framework/bfc_allocator.cc:296] Allocator (GPU_0_bfc) ran out of memory trying to allocate 784.28MiB with freed_by_count=0. The caller indicates that this is not a failure, but this may mean that there could be performance gains if more memory were available.\n",
      "2024-05-12 19:21:21.634347: W tensorflow/tsl/framework/bfc_allocator.cc:296] Allocator (GPU_0_bfc) ran out of memory trying to allocate 784.28MiB with freed_by_count=0. The caller indicates that this is not a failure, but this may mean that there could be performance gains if more memory were available.\n",
      "2024-05-12 19:21:21.634364: W tensorflow/tsl/framework/bfc_allocator.cc:296] Allocator (GPU_0_bfc) ran out of memory trying to allocate 784.28MiB with freed_by_count=0. The caller indicates that this is not a failure, but this may mean that there could be performance gains if more memory were available.\n"
     ]
    }
   ],
   "source": [
    "# we do not need to train the discriminator with mixture of fake and real monet\n",
    "# train it seperately instead.\n",
    "\n",
    "discriminator_history = []\n",
    "generator_history = []\n",
    "\n",
    "for _ in range(CONFIG[\"EPOCHS\"]):\n",
    "    monet_idx = random.sample(range(monet_set.shape[0]), k=CONFIG[\"BATCH_SIZE\"])\n",
    "    monet_batch = tf.gather(monet_set, indices=monet_idx)\n",
    "\n",
    "    photo_idx = random.sample(range(photo_set.shape[0]), k=CONFIG[\"BATCH_SIZE\"])\n",
    "    photo_batch = tf.gather(photo_set, indices=photo_idx)\n",
    "\n",
    "    discriminator_history.append(train_discriminator(real_images=monet_batch, fake_images=generator(photo_batch)))\n",
    "    generator_history.append(train_generator(images=photo_batch))\n"
   ]
  },
  {
   "cell_type": "code",
   "execution_count": 14,
   "metadata": {},
   "outputs": [
    {
     "data": {
      "text/plain": [
       "[([0.6993177533149719, 0.0], [0.6676900386810303, 1.0]),\n",
       " ([0.6498976349830627, 1.0], [0.5918108820915222, 1.0]),\n",
       " ([0.5767498016357422, 1.0], [0.4929863214492798, 1.0]),\n",
       " ([0.44746917486190796, 1.0], [0.3384184241294861, 1.0]),\n",
       " ([0.25374096632003784, 1.0], [0.19456419348716736, 1.0]),\n",
       " ([0.12731899321079254, 1.0], [0.08763424307107925, 1.0]),\n",
       " ([0.034163814038038254, 1.0], [0.03254415839910507, 1.0]),\n",
       " ([0.013902666978538036, 1.0], [0.010343027301132679, 1.0]),\n",
       " ([0.002575263846665621, 1.0], [0.008592531085014343, 1.0]),\n",
       " ([0.00012343781418167055, 1.0], [0.0012969749514013529, 1.0])]"
      ]
     },
     "execution_count": 14,
     "metadata": {},
     "output_type": "execute_result"
    }
   ],
   "source": [
    "discriminator_history"
   ]
  },
  {
   "cell_type": "code",
   "execution_count": 15,
   "metadata": {},
   "outputs": [
    {
     "data": {
      "text/plain": [
       "[[0.6452574133872986, 1.0],\n",
       " [0.561002790927887, 1.0],\n",
       " [0.41489189863204956, 1.0],\n",
       " [0.23869256675243378, 1.0],\n",
       " [0.09501928836107254, 1.0],\n",
       " [0.021592263132333755, 1.0],\n",
       " [0.003141624853014946, 1.0],\n",
       " [0.00040362394065596163, 1.0],\n",
       " [0.00014220745651982725, 1.0],\n",
       " [4.4261992115934845e-06, 1.0]]"
      ]
     },
     "execution_count": 15,
     "metadata": {},
     "output_type": "execute_result"
    }
   ],
   "source": [
    "generator_history"
   ]
  },
  {
   "cell_type": "code",
   "execution_count": null,
   "metadata": {},
   "outputs": [],
   "source": []
  }
 ],
 "metadata": {
  "kernelspec": {
   "display_name": "cv_env",
   "language": "python",
   "name": "python3"
  },
  "language_info": {
   "codemirror_mode": {
    "name": "ipython",
    "version": 3
   },
   "file_extension": ".py",
   "mimetype": "text/x-python",
   "name": "python",
   "nbconvert_exporter": "python",
   "pygments_lexer": "ipython3",
   "version": "3.8.10"
  }
 },
 "nbformat": 4,
 "nbformat_minor": 2
}
